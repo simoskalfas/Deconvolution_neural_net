{
 "cells": [
  {
   "cell_type": "markdown",
   "metadata": {},
   "source": [
    "# Incomplete regression neural network (RNN) that adopts a more complex architecture to improve on the simpler regression network previously made. \n",
    "\n",
    "Since the data to be deconvoluted are not the standalone distribution curves, but a series of them with one evolving into the next, an RNN can be used to analyse this whole series as a three-dimensional dataset. This has yet to be tested since making representative simulated data is not an easy task.\n",
    "\n",
    "For descriptions of the classes and functions see the regression neural network."
   ]
  },
  {
   "cell_type": "code",
   "execution_count": 3,
   "metadata": {},
   "outputs": [],
   "source": [
    "import numpy as np"
   ]
  },
  {
   "cell_type": "code",
   "execution_count": 20,
   "metadata": {},
   "outputs": [],
   "source": [
    "class Normal_Distribution:\n",
    "    def __init__(self,mean,std,height,x):\n",
    "        self.initialize_variables(mean,std,height,x)\n",
    "        self.create_distribution()\n",
    "    def initialize_variables(self,mean,std,height,x):\n",
    "        self.mean = mean\n",
    "        self.std = std\n",
    "        self.x = x\n",
    "        self.height = height\n",
    "        self.data = np.array([])\n",
    "    def create_distribution(self):\n",
    "        self.data = self.height * np.exp(-((self.x - self.mean) ** 2) / (2 * (self.std ** 2)))"
   ]
  },
  {
   "cell_type": "code",
   "execution_count": 21,
   "metadata": {},
   "outputs": [],
   "source": [
    "class Combine_Distribution:\n",
    "    def __init__(self, distributions):\n",
    "        self.initialize_variables(distributions)\n",
    "        self.combine()\n",
    "        \n",
    "    def initialize_variables(self, distributions):\n",
    "        self.distributions = distributions\n",
    "        self.curve = np.zeros(len(self.distributions[0].data))\n",
    "        \n",
    "    def combine(self):\n",
    "        for i in self.distributions:\n",
    "            self.curve = [sum(x) for x in list(zip(self.curve,i.data))]"
   ]
  },
  {
   "cell_type": "code",
   "execution_count": 22,
   "metadata": {},
   "outputs": [],
   "source": [
    "class Create_Dataset:\n",
    "    def __init__(self,x,sample_number):\n",
    "        self.initialize_variables(x,sample_number)\n",
    "        self.create_samples()\n",
    "    def initialize_variables(self,x,sample_number): \n",
    "        self.x = x\n",
    "        self.sample_number = sample_number\n",
    "        self.number_of_gaussians = 0\n",
    "        self.name_dictionary = {}\n",
    "        self.mean = 0\n",
    "        self.std = 0\n",
    "        self.height = 0 \n",
    "        self.features = []\n",
    "        self.targets = []\n",
    "        self.means_array = np.zeros(10)\n",
    "        self.std_array = np.zeros(10)\n",
    "        self.height_array = np.zeros(10)\n",
    "    def create_samples(self):\n",
    "        for _ in range(0,self.sample_number):\n",
    "            #self.number_of_gaussians = np.random.randint(1,10)\n",
    "            self.number_of_gaussians = 1\n",
    "            for i in range(0,self.number_of_gaussians):\n",
    "                if self.means_array[i - 1] != 0:\n",
    "                    prev_mean = self.means_array[i - 1]\n",
    "                    self.mean = prev_mean + np.round(prev_mean + 3*np.random.random_sample(), 3)\n",
    "                    self.means_array[i] = self.mean\n",
    "                    \n",
    "                else:\n",
    "                    self.mean = np.round(40*np.random.random_sample(), 3)\n",
    "                    self.means_array[i] = self.mean\n",
    "                self.std = np.round(4*np.random.random_sample(), 3)\n",
    "                self.std_array[i] = self.std\n",
    "                self.height = np.round(np.random.random_sample(), 3)\n",
    "                self.height_array[i] = self.height\n",
    "                self.name_dictionary['distibution' + str(i)] = Normal_Distribution(self.mean,self.std,self.height,self.x)\n",
    "            self.features.append(Combine_Distribution([self.name_dictionary[i].data for i in self.name_dictionary]).curve)\n",
    "            self.targets.append(np.array([self.means_array,self.std_array,self.height_array]).flatten())\n",
    "            self.means_array = np.zeros(10)\n",
    "            self.std_array = np.zeros(10)\n",
    "            self.height_array = np.zeros(10)  \n",
    "            self.name_dictionary = {}\n",
    "            "
   ]
  },
  {
   "cell_type": "code",
   "execution_count": 66,
   "metadata": {},
   "outputs": [],
   "source": [
    "class Test_CIU:\n",
    "    def __init__(self, population_number, slice_number, x, dataset_size):\n",
    "        self.initialize_variables(population_number, slice_number, x, dataset_size)\n",
    "        self.create_dataset()\n",
    "    def initialize_variables(self, population_number, slice_number, x):\n",
    "        self.dataset_size = dataset_size\n",
    "        self.population_number = population_number\n",
    "        self.slice_number = slice_number\n",
    "        self.number_of_gaus = 0\n",
    "        self.x = x\n",
    "        self.quartile = len(self.x)/4\n",
    "        self.mean_matrix = np.zeros((self.population_number, self.slice_number))\n",
    "        self.std_matrix = np.round(np.random.rand(self.population_number, self.slice_number) * 3, 3)\n",
    "        self.height_matrix = np.zeros((self.sample_number, self.slice_number))\n",
    "        self.data = []\n",
    "        self.targets = np.zeros((self.dataset_size ,self.slice_number ,3*self.population_number))\n",
    "    def first_dist(self):\n",
    "        self.number_of_gaus = np.random.randint(1,3)\n",
    "        for i in range(0, self.number_of_gaus):\n",
    "            self.std_matrix[0][i] = np.round(4*np.random.random_sample(), 3)\n",
    "            self.height_matrix[0][i] = np.round(np.random.random_sample(), 3)\n",
    "            if self.mean_matrix[0][0] == 0.:\n",
    "                self.mean_matrix[0][0] = np.round(self.quartile + (len(self.x) / 2) * np.random.random_sample() , 3)\n",
    "            else:\n",
    "                prev_mean = self.mean_matrix[0][-1]\n",
    "                if prev_mean + 6 >= len(self.x):\n",
    "                    self.number_of_gaus = i\n",
    "                    break\n",
    "                self.mean_matrix[0][i] = np.round(3 + prev_mean + 3 * np.random.random_sample(), 3)         \n",
    "    def create_CIU(self):\n",
    "        self.first_dist()\n",
    "        for i in range(1, self.slice_number):\n",
    "            self.number_of_gaus = len([i for i in self.mean_matrix[i-1] if i != 0.])\n",
    "            if np.random.randint() > 0.5:\n",
    "                self.number_of_gaus += 1\n",
    "                self.mean_matrix[i][self.number_of_gaus - 1] = np.round(3 + self.mean_matrix[i][self.number_of_gaus - 2] + 3 * np.random.random_sample(), 3)\n",
    "            for j in range(0, self.number_of_gaus):\n",
    "                if any(height_matrix[:][j]) == 1.:\n",
    "                    height_matrix[i][j] =  height_matrix[i-1][j] - 0.4*np.round(np.random.random_sample(), 3)\n",
    "                    if height_matrix[i][j] < 0.:\n",
    "                        height_matrix[i][j] = 0.\n",
    "                else:\n",
    "                    height_matrix[i][j] =  height_matrix[i-1][j] + 0.4*np.round(np.random.random_sample(), 3)\n",
    "                    if height_matrix[i][j] > 1.:\n",
    "                        height_matrix[i][j] = 1.\n",
    "    def create_dataset(self):\n",
    "        for k in range(0, self.dataset_size):\n",
    "            self.create_CIU()\n",
    "            parameter_matrix = np.array([self.mean_matrix, self.std_matrix, self.height_matrix])\n",
    "            gaussian_matrix = np.zeros((self.population_number, self.slice_number))\n",
    "            CIU_matrix = np.zeros((self.slice_number, self.dataset_size))\n",
    "            for i in range(0, len(parameter_matrix[:][0])):\n",
    "                for j in range(0, len(parameter_matrix[:][:][0])):\n",
    "                    gaussian_matrix[i][j] = Normal_Distribution(parameter_matrix[0][i][j],parameter_matrix[1][i][j],parameter_matrix[2][i][j], self.x)\n",
    "                    self.targets[k][i] = np.concatenate(self.mean_matrix[j], self.std_matrix[j], self.height_matrix[j])\n",
    "            for i in range(gaussian_matrix):\n",
    "                CIU_matrix[k][i] = Combine_Distribution(i)\n",
    "            self.data.append(CIU_matrix)\n",
    "                \n",
    "                    \n",
    "            \n",
    "        \n",
    "                \n",
    "                \n",
    "            "
   ]
  },
  {
   "cell_type": "code",
   "execution_count": 65,
   "metadata": {},
   "outputs": [
    {
     "name": "stdout",
     "output_type": "stream",
     "text": [
      "(2, 3, 5)\n"
     ]
    },
    {
     "ename": "IndexError",
     "evalue": "index 2 is out of bounds for axis 0 with size 2",
     "output_type": "error",
     "traceback": [
      "\u001b[0;31m---------------------------------------------------------------------------\u001b[0m",
      "\u001b[0;31mIndexError\u001b[0m                                Traceback (most recent call last)",
      "\u001b[0;32m<ipython-input-65-c05359a62812>\u001b[0m in \u001b[0;36m<module>\u001b[0;34m()\u001b[0m\n\u001b[1;32m      3\u001b[0m \u001b[0mc\u001b[0m \u001b[0;34m=\u001b[0m \u001b[0mnp\u001b[0m\u001b[0;34m.\u001b[0m\u001b[0marray\u001b[0m\u001b[0;34m(\u001b[0m\u001b[0;34m[\u001b[0m\u001b[0ma\u001b[0m\u001b[0;34m,\u001b[0m\u001b[0mb\u001b[0m\u001b[0;34m]\u001b[0m\u001b[0;34m)\u001b[0m\u001b[0;34m\u001b[0m\u001b[0m\n\u001b[1;32m      4\u001b[0m \u001b[0mprint\u001b[0m\u001b[0;34m(\u001b[0m\u001b[0mc\u001b[0m\u001b[0;34m.\u001b[0m\u001b[0mshape\u001b[0m\u001b[0;34m)\u001b[0m\u001b[0;34m\u001b[0m\u001b[0m\n\u001b[0;32m----> 5\u001b[0;31m \u001b[0md\u001b[0m \u001b[0;34m=\u001b[0m \u001b[0;34m[\u001b[0m\u001b[0mc\u001b[0m\u001b[0;34m[\u001b[0m\u001b[0;34m:\u001b[0m\u001b[0;34m]\u001b[0m\u001b[0;34m[\u001b[0m\u001b[0mi\u001b[0m\u001b[0;34m]\u001b[0m\u001b[0;34m[\u001b[0m\u001b[0;34m:\u001b[0m\u001b[0;34m]\u001b[0m\u001b[0;34m.\u001b[0m\u001b[0mflatten\u001b[0m\u001b[0;34m(\u001b[0m\u001b[0;34m)\u001b[0m \u001b[0;32mfor\u001b[0m \u001b[0mi\u001b[0m \u001b[0;32min\u001b[0m \u001b[0mrange\u001b[0m\u001b[0;34m(\u001b[0m\u001b[0mlen\u001b[0m\u001b[0;34m(\u001b[0m\u001b[0mc\u001b[0m\u001b[0;34m[\u001b[0m\u001b[0;34m:\u001b[0m\u001b[0;34m]\u001b[0m\u001b[0;34m[\u001b[0m\u001b[0;34m:\u001b[0m\u001b[0;34m]\u001b[0m\u001b[0;34m[\u001b[0m\u001b[0;36m0\u001b[0m\u001b[0;34m]\u001b[0m\u001b[0;34m)\u001b[0m\u001b[0;34m)\u001b[0m\u001b[0;34m]\u001b[0m\u001b[0;34m\u001b[0m\u001b[0m\n\u001b[0m\u001b[1;32m      6\u001b[0m \u001b[0mprint\u001b[0m\u001b[0;34m(\u001b[0m\u001b[0md\u001b[0m\u001b[0;34m.\u001b[0m\u001b[0mshape\u001b[0m\u001b[0;34m)\u001b[0m\u001b[0;34m\u001b[0m\u001b[0m\n",
      "\u001b[0;32m<ipython-input-65-c05359a62812>\u001b[0m in \u001b[0;36m<listcomp>\u001b[0;34m(.0)\u001b[0m\n\u001b[1;32m      3\u001b[0m \u001b[0mc\u001b[0m \u001b[0;34m=\u001b[0m \u001b[0mnp\u001b[0m\u001b[0;34m.\u001b[0m\u001b[0marray\u001b[0m\u001b[0;34m(\u001b[0m\u001b[0;34m[\u001b[0m\u001b[0ma\u001b[0m\u001b[0;34m,\u001b[0m\u001b[0mb\u001b[0m\u001b[0;34m]\u001b[0m\u001b[0;34m)\u001b[0m\u001b[0;34m\u001b[0m\u001b[0m\n\u001b[1;32m      4\u001b[0m \u001b[0mprint\u001b[0m\u001b[0;34m(\u001b[0m\u001b[0mc\u001b[0m\u001b[0;34m.\u001b[0m\u001b[0mshape\u001b[0m\u001b[0;34m)\u001b[0m\u001b[0;34m\u001b[0m\u001b[0m\n\u001b[0;32m----> 5\u001b[0;31m \u001b[0md\u001b[0m \u001b[0;34m=\u001b[0m \u001b[0;34m[\u001b[0m\u001b[0mc\u001b[0m\u001b[0;34m[\u001b[0m\u001b[0;34m:\u001b[0m\u001b[0;34m]\u001b[0m\u001b[0;34m[\u001b[0m\u001b[0mi\u001b[0m\u001b[0;34m]\u001b[0m\u001b[0;34m[\u001b[0m\u001b[0;34m:\u001b[0m\u001b[0;34m]\u001b[0m\u001b[0;34m.\u001b[0m\u001b[0mflatten\u001b[0m\u001b[0;34m(\u001b[0m\u001b[0;34m)\u001b[0m \u001b[0;32mfor\u001b[0m \u001b[0mi\u001b[0m \u001b[0;32min\u001b[0m \u001b[0mrange\u001b[0m\u001b[0;34m(\u001b[0m\u001b[0mlen\u001b[0m\u001b[0;34m(\u001b[0m\u001b[0mc\u001b[0m\u001b[0;34m[\u001b[0m\u001b[0;34m:\u001b[0m\u001b[0;34m]\u001b[0m\u001b[0;34m[\u001b[0m\u001b[0;34m:\u001b[0m\u001b[0;34m]\u001b[0m\u001b[0;34m[\u001b[0m\u001b[0;36m0\u001b[0m\u001b[0;34m]\u001b[0m\u001b[0;34m)\u001b[0m\u001b[0;34m)\u001b[0m\u001b[0;34m]\u001b[0m\u001b[0;34m\u001b[0m\u001b[0m\n\u001b[0m\u001b[1;32m      6\u001b[0m \u001b[0mprint\u001b[0m\u001b[0;34m(\u001b[0m\u001b[0md\u001b[0m\u001b[0;34m.\u001b[0m\u001b[0mshape\u001b[0m\u001b[0;34m)\u001b[0m\u001b[0;34m\u001b[0m\u001b[0m\n",
      "\u001b[0;31mIndexError\u001b[0m: index 2 is out of bounds for axis 0 with size 2"
     ]
    }
   ],
   "source": [
    "a = np.zeros((3,5))\n",
    "b = np.zeros((3,5))\n",
    "c = np.array([a,b])\n",
    "print(c.shape)\n",
    "d = [c[:][i][:].flatten() for i in range(len(c[:][:][0]))]\n",
    "print(d.shape)"
   ]
  },
  {
   "cell_type": "code",
   "execution_count": 23,
   "metadata": {},
   "outputs": [],
   "source": [
    "x_range = np.linspace(0, 40, 200)"
   ]
  },
  {
   "cell_type": "code",
   "execution_count": 56,
   "metadata": {},
   "outputs": [
    {
     "name": "stderr",
     "output_type": "stream",
     "text": [
      "/usr/local/lib/python3.5/dist-packages/ipykernel_launcher.py:12: RuntimeWarning: divide by zero encountered in true_divide\n",
      "  if sys.path[0] == '':\n"
     ]
    }
   ],
   "source": [
    "Dataset = Create_Dataset(x_range, 100000)"
   ]
  },
  {
   "cell_type": "code",
   "execution_count": 57,
   "metadata": {},
   "outputs": [],
   "source": [
    "from sklearn.model_selection import train_test_split\n",
    "train_x , test_x , train_y , test_y = train_test_split(Dataset.features,Dataset.targets,test_size = 0.25)"
   ]
  },
  {
   "cell_type": "code",
   "execution_count": 58,
   "metadata": {},
   "outputs": [
    {
     "data": {
      "text/plain": [
       "(75000, 200)"
      ]
     },
     "execution_count": 58,
     "metadata": {},
     "output_type": "execute_result"
    }
   ],
   "source": [
    "np.array(train_x).shape"
   ]
  },
  {
   "cell_type": "code",
   "execution_count": 59,
   "metadata": {},
   "outputs": [],
   "source": [
    "from keras import *\n",
    "from keras.layers import Dense"
   ]
  },
  {
   "cell_type": "code",
   "execution_count": null,
   "metadata": {},
   "outputs": [
    {
     "name": "stdout",
     "output_type": "stream",
     "text": [
      "Train on 67500 samples, validate on 7500 samples\n",
      "Epoch 1/60\n",
      "67500/67500 [==============================] - 3s 45us/step - loss: 1.1604 - val_loss: 0.1652\n",
      "Epoch 2/60\n",
      "67500/67500 [==============================] - 3s 42us/step - loss: 0.1300 - val_loss: 0.1045\n",
      "Epoch 3/60\n",
      "67500/67500 [==============================] - 3s 43us/step - loss: 0.0929 - val_loss: 0.0849\n",
      "Epoch 4/60\n",
      "67500/67500 [==============================] - 3s 43us/step - loss: 0.0774 - val_loss: 0.0727\n",
      "Epoch 5/60\n",
      "67500/67500 [==============================] - 3s 44us/step - loss: 0.0667 - val_loss: 0.0608\n",
      "Epoch 6/60\n",
      "67500/67500 [==============================] - 3s 44us/step - loss: 0.0595 - val_loss: 0.0548\n",
      "Epoch 7/60\n",
      "67500/67500 [==============================] - 3s 49us/step - loss: 0.0539 - val_loss: 0.0507\n",
      "Epoch 8/60\n",
      "67500/67500 [==============================] - 3s 47us/step - loss: 0.0490 - val_loss: 0.0764\n",
      "Epoch 9/60\n",
      "67500/67500 [==============================] - 3s 44us/step - loss: 0.0472 - val_loss: 0.0505\n",
      "Epoch 10/60\n",
      "67500/67500 [==============================] - 3s 44us/step - loss: 0.0439 - val_loss: 0.0435\n",
      "Epoch 11/60\n",
      "67500/67500 [==============================] - 3s 41us/step - loss: 0.0415 - val_loss: 0.0414\n",
      "Epoch 12/60\n",
      "67500/67500 [==============================] - 3s 41us/step - loss: 0.0399 - val_loss: 0.0387\n",
      "Epoch 13/60\n",
      "67500/67500 [==============================] - 3s 41us/step - loss: 0.0387 - val_loss: 0.0586\n",
      "Epoch 14/60\n",
      "67500/67500 [==============================] - 3s 41us/step - loss: 0.0382 - val_loss: 0.0377\n",
      "Epoch 15/60\n",
      "67500/67500 [==============================] - 3s 45us/step - loss: 0.0370 - val_loss: 0.0395\n",
      "Epoch 16/60\n",
      "67500/67500 [==============================] - 3s 43us/step - loss: 0.0350 - val_loss: 0.0440\n",
      "Epoch 17/60\n",
      "67500/67500 [==============================] - 3s 44us/step - loss: 0.0366 - val_loss: 0.0336\n",
      "Epoch 18/60\n",
      "67500/67500 [==============================] - 3s 44us/step - loss: 0.0328 - val_loss: 0.0426\n",
      "Epoch 19/60\n",
      "67500/67500 [==============================] - 3s 44us/step - loss: 0.0323 - val_loss: 0.0318\n",
      "Epoch 20/60\n",
      "67500/67500 [==============================] - 3s 41us/step - loss: 0.0333 - val_loss: 0.0388\n",
      "Epoch 21/60\n",
      "45900/67500 [===================>..........] - ETA: 0s - loss: 0.0355"
     ]
    }
   ],
   "source": [
    "model = Sequential()\n",
    "model.add(Dense(300, input_shape=(200,), activation='relu'))\n",
    "model.add(Dense(400, input_shape=(300,), activation='relu'))\n",
    "model.add(Dense(30, input_shape=(400,)))\n",
    "\n",
    "model.compile(loss='mean_squared_error', optimizer='adam')\n",
    "\n",
    "model.fit(np.array(train_x), np.array(train_y), epochs=60, validation_split=0.1, batch_size=100)"
   ]
  },
  {
   "cell_type": "code",
   "execution_count": 1,
   "metadata": {},
   "outputs": [
    {
     "ename": "NameError",
     "evalue": "name 'model' is not defined",
     "output_type": "error",
     "traceback": [
      "\u001b[1;31m---------------------------------------------------------------------------\u001b[0m",
      "\u001b[1;31mNameError\u001b[0m                                 Traceback (most recent call last)",
      "\u001b[1;32m<ipython-input-1-f58000efd3e7>\u001b[0m in \u001b[0;36m<module>\u001b[1;34m()\u001b[0m\n\u001b[1;32m----> 1\u001b[1;33m \u001b[0mmodel\u001b[0m\u001b[1;33m.\u001b[0m\u001b[0mpredict\u001b[0m\u001b[1;33m(\u001b[0m\u001b[0mnp\u001b[0m\u001b[1;33m.\u001b[0m\u001b[0marray\u001b[0m\u001b[1;33m(\u001b[0m\u001b[0mtest_x\u001b[0m\u001b[1;33m[\u001b[0m\u001b[1;36m0\u001b[0m\u001b[1;33m]\u001b[0m\u001b[1;33m)\u001b[0m\u001b[1;33m.\u001b[0m\u001b[0mreshape\u001b[0m\u001b[1;33m(\u001b[0m\u001b[1;36m1\u001b[0m\u001b[1;33m,\u001b[0m\u001b[1;36m200\u001b[0m\u001b[1;33m)\u001b[0m\u001b[1;33m)\u001b[0m\u001b[1;33m\u001b[0m\u001b[0m\n\u001b[0m",
      "\u001b[1;31mNameError\u001b[0m: name 'model' is not defined"
     ]
    }
   ],
   "source": [
    "model.predict(np.array(test_x[0]).reshape(1,200))\n"
   ]
  },
  {
   "cell_type": "code",
   "execution_count": null,
   "metadata": {},
   "outputs": [],
   "source": [
    "test_y[5]"
   ]
  },
  {
   "cell_type": "code",
   "execution_count": null,
   "metadata": {},
   "outputs": [],
   "source": [
    "from matplotlib import pyplot as plt"
   ]
  },
  {
   "cell_type": "code",
   "execution_count": null,
   "metadata": {},
   "outputs": [],
   "source": [
    "\n",
    "for i in range(5, len(test_y), 500):\n",
    "    gaussdic = {}\n",
    "    testclean = []\n",
    "    predclean = []\n",
    "    for j in range(0,len(test_y[i])):\n",
    "        if test_y[i][j] != 0.:\n",
    "            testclean.append(test_y[i][j])\n",
    "            predclean.append(model.predict(np.array(test_x[i]).reshape(1,200))[0][j])\n",
    "    num = int(len(testclean)/3)\n",
    "    print(num)\n",
    "    testcurve = Combine_Distribution([Normal_Distribution(testclean[j],testclean[j + num],testclean[j + 2*num], x_range)  for j in range(0, num)])\n",
    "    predcurve = Combine_Distribution([Normal_Distribution(predclean[j],predclean[j + num],predclean[j + 2*num], x_range)  for j in range(0, num)])\n",
    "    for j in range(0, len(testcurve.distributions)):\n",
    "        plt.plot(np.linspace(0, 40, 200), testcurve.distributions[j].data, 'r-', label=str(i))\n",
    "        plt.plot(np.linspace(0, 40, 200), predcurve.distributions[j].data, 'k-', label=str(i))\n",
    "        plt.legend()\n",
    "    #plt.plot(np.linspace(0, 40, 200), testcurve.curve)\n",
    "    #plt.plot(np.linspace(0, 40, 200), predcurve.curve)\n",
    "    plt.show()\n",
    "        "
   ]
  }
 ],
 "metadata": {
  "kernelspec": {
   "display_name": "Python 2",
   "language": "python",
   "name": "python2"
  },
  "language_info": {
   "codemirror_mode": {
    "name": "ipython",
    "version": 2
   },
   "file_extension": ".py",
   "mimetype": "text/x-python",
   "name": "python",
   "nbconvert_exporter": "python",
   "pygments_lexer": "ipython2",
   "version": "2.7.14"
  }
 },
 "nbformat": 4,
 "nbformat_minor": 2
}
